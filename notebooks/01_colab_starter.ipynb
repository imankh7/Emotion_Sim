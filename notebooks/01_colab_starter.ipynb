{
  "cells": [
    {
      "cell_type": "markdown",
      "metadata": {
        "id": "NK8tK_DF5EDM"
      },
      "source": [
        "# Emotion-Aware Note Understanding & Similarity:\n",
        "data prep → embeddings → similarity → emotion classifier → RAG → evaluation\n"
      ],
      "id": "NK8tK_DF5EDM"
    },
    {
      "cell_type": "code",
      "metadata": {
        "id": "dQoYJypP5EDN"
      },
      "execution_count": 5,
      "outputs": [],
      "source": [
        "!pip -q install --upgrade pip\n",
        "!pip -q install transformers sentence-transformers datasets langchain chromadb rouge-score\n",
        "!pip ins"
      ],
      "id": "dQoYJypP5EDN"
    },
    {
      "cell_type": "code",
      "source": [],
      "metadata": {
        "id": "uULPJnmt8MYd"
      },
      "id": "uULPJnmt8MYd",
      "execution_count": null,
      "outputs": []
    }
  ],
  "metadata": {
    "colab": {
      "provenance": []
    },
    "kernelspec": {
      "display_name": "Python 3",
      "language": "python",
      "name": "python3"
    },
    "language_info": {
      "name": "python"
    }
  },
  "nbformat": 4,
  "nbformat_minor": 5
}